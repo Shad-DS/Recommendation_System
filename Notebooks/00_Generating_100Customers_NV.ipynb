{
 "cells": [
  {
   "cell_type": "markdown",
   "id": "8d79046e",
   "metadata": {},
   "source": [
    "# Purpose\n",
    "\n",
    "The overall goal of this exercise is to generate the billings for a grocery store/supermarket, so that we can create a recommendation system informed by customer purchases.\n",
    "\n",
    "We start by defining some constrains: we will simulate the purchases of **100 customers** for **1 year**. We will use the following data (and all underlying assumptions that come with) related to grocery shopping habits:\n",
    "\n",
    " - H.1: The average person spends £26.5 per week on groceries (see https://www.nimblefins.co.uk/average-uk-household-cost-food), which obviously changes based on a person's caloric intake, or location, or any number of other factors\n",
    " - H.2: The average person does all of their shopping in one week, or when required (see https://yougov.co.uk/topics/food/articles-reports/2021/01/28/grocery-store-frequency-us-gb-poll); this varies by age group, but we'll assume that there is no variation.\n",
    " \n",
    "and the following assumptions about customers:\n",
    "\n",
    " - C.1: They are all between the ages of 18 and 99. If we had a rewards program, like Tesco clubcard, adopting clients would have to be 18 years old or more.\n",
    " - C.2: Their shopping choices are not based on their sex.\n",
    " - C.3: Their shopping choices are not location dependent.\n",
    "\n",
    "Additionally, we are making the following assumptions about the supermarket:\n",
    "\n",
    " - S.1: There is a constant stream of produce, so no shortages or supply chain problems. We don't want this to become supermarket simulator (at least not yet).\n",
    " - S.2: Prices are inelastic for the simulation year. This is obviously not the case, since there are always sales (and groceries have expiration dates, so they tend to be cheaper at the end of the day). However, we will assume no changes, since, again, this is not a supermarket simulator.\n",
    " \n",
    "With this in mind, we now generate 100 customers! There are many ways we can generate our fake data: Faker (https://faker.readthedocs.io/en/master/) allows us to generate a variety of data points. Faker's `.profile()` might be a good place to start.\n",
    "\n",
    "**ATTN**: Re-running this notebook will likely change some of the aggregate values below. Please read first!"
   ]
  },
  {
   "cell_type": "code",
   "execution_count": 15,
   "id": "c6194eb4",
   "metadata": {},
   "outputs": [],
   "source": [
    "from faker import Faker\n",
    "from pprint import pprint\n",
    "\n",
    "Faker.seed(42)\n",
    "\n",
    "fake = Faker('en-GB')"
   ]
  },
  {
   "cell_type": "code",
   "execution_count": 17,
   "id": "439ee92c",
   "metadata": {},
   "outputs": [
    {
     "name": "stdout",
     "output_type": "stream",
     "text": [
      "{'address': 'Flat 6\\nMaria valley\\nWest Sharon\\nN9 1NW',\n",
      " 'birthdate': datetime.date(2000, 10, 13),\n",
      " 'blood_group': 'B-',\n",
      " 'company': 'Thomas LLC',\n",
      " 'current_location': (Decimal('36.349890'), Decimal('-60.581808')),\n",
      " 'job': 'Planning and development surveyor',\n",
      " 'mail': 'dorothy65@yahoo.co.uk',\n",
      " 'name': 'Miss Marion Butler',\n",
      " 'residence': '2 Amy burg\\nLake Brett\\nTR34 1RB',\n",
      " 'sex': 'M',\n",
      " 'ssn': 'ZZ 53 31 58 T',\n",
      " 'username': 'coopermelissa',\n",
      " 'website': ['https://wilson.com/',\n",
      "             'https://taylor-morgan.com/',\n",
      "             'https://robinson.com/',\n",
      "             'https://www.hunt.biz/']}\n",
      "\n",
      "{'address': '32 Parker gateway\\nSouth Aaronmouth\\nNG8W 7ZW',\n",
      " 'birthdate': datetime.date(1927, 7, 22),\n",
      " 'blood_group': 'B+',\n",
      " 'company': 'Clarke, Burton and Singh',\n",
      " 'current_location': (Decimal('-29.6984805'), Decimal('-73.092931')),\n",
      " 'job': 'Hotel manager',\n",
      " 'mail': 'jburke@yahoo.co.uk',\n",
      " 'name': 'Mr. Damien Cooper',\n",
      " 'residence': 'Flat 36Y\\nHall mills\\nNew Elaine\\nDA1M 1JN',\n",
      " 'sex': 'M',\n",
      " 'ssn': 'ZZ 299468 T',\n",
      " 'username': 'psmith',\n",
      " 'website': ['http://www.talbot-read.info/']}\n",
      "\n",
      "{'address': 'Flat 46\\nDay junction\\nWoodmouth\\nB69 1SF',\n",
      " 'birthdate': datetime.date(1950, 6, 12),\n",
      " 'blood_group': 'O+',\n",
      " 'company': 'Smith-Smith',\n",
      " 'current_location': (Decimal('55.6560695'), Decimal('70.141207')),\n",
      " 'job': 'Public relations officer',\n",
      " 'mail': 'qclayton@yahoo.co.uk',\n",
      " 'name': 'Sarah Hewitt',\n",
      " 'residence': 'Flat 45\\nLawrence common\\nEast Dale\\nSM23 6SP',\n",
      " 'sex': 'M',\n",
      " 'ssn': 'ZZ 487347 T',\n",
      " 'username': 'janet68',\n",
      " 'website': ['http://franklin-jackson.com/']}\n",
      "\n"
     ]
    }
   ],
   "source": [
    "for _ in range(3):\n",
    "    pprint(fake.profile())\n",
    "    print()"
   ]
  },
  {
   "cell_type": "markdown",
   "id": "4eab79db",
   "metadata": {},
   "source": [
    "As we can see, this allows us to generate a variery of data about a person. Upon observation, we get more information we need (birthdate), some information we can use in different contexts (e.g. job) and also some data is clearly problematic for other applications (e.g. some postal codes are just wrong).\n",
    "\n",
    "We can use the basic output as a starting point, removing sex (see C.2) and residence/address (see C.3). \n",
    "\n",
    "### Customer ages"
   ]
  },
  {
   "cell_type": "code",
   "execution_count": 124,
   "id": "a9826c21",
   "metadata": {},
   "outputs": [],
   "source": [
    "from datetime import datetime\n",
    "\n",
    "customers = []\n",
    "\n",
    "# Instead of generating 100 customers and removing the ones that do not conform to the \n",
    "# age constraint (see C.1), we generate customers until we have our 100.\n",
    "while len(customers) <= 99:\n",
    "    # We generate a fake customer\n",
    "    profile = fake.profile()\n",
    "    # We just care about their age; in the future, we may want to also keep birthdate,\n",
    "    # allowing us to determine what products to offer our clients with a discount\n",
    "    # on their birthday\n",
    "    age = int((datetime.today().date() - profile['birthdate']).days/365.2425)\n",
    "    \n",
    "    if 18 < age < 99:\n",
    "        customers.append({\n",
    "            'age': age\n",
    "        })"
   ]
  },
  {
   "cell_type": "markdown",
   "id": "c7662180",
   "metadata": {},
   "source": [
    "Let's have a look at the distrubution of the ages we generated. To facilitate visualisation, when we plot, let's bin the values in age ranges. We will just use standard measures (18-24, through to 55+), for simplicity."
   ]
  },
  {
   "cell_type": "code",
   "execution_count": 120,
   "id": "7c745e25",
   "metadata": {},
   "outputs": [],
   "source": [
    "from collections import Counter\n",
    "from matplotlib import pyplot as plt\n",
    "import numpy as np"
   ]
  },
  {
   "cell_type": "code",
   "execution_count": 121,
   "id": "ad942a89",
   "metadata": {},
   "outputs": [],
   "source": [
    "age_ranges = [18, 25, 35, 45, 55, 99]\n",
    "age_labels = ['18-24', '25-34', '35-44', '45-54', '55+']"
   ]
  },
  {
   "cell_type": "code",
   "execution_count": 125,
   "id": "0a00fab0",
   "metadata": {},
   "outputs": [
    {
     "data": {
      "image/png": "[encoded data removed]",
      "text/plain": [
       "<Figure size 720x360 with 1 Axes>"
      ]
     },
     "metadata": {
      "needs_background": "light"
     },
     "output_type": "display_data"
    }
   ],
   "source": [
    "# We use Counter to count the number of bins\n",
    "counter = Counter(\n",
    "    np.digitize(\n",
    "        sorted([cust['age'] for cust in customers]), # making sure the ages are sorted\n",
    "        age_ranges  # the bin start and end\n",
    "    )\n",
    ")\n",
    "\n",
    "# and matplotlib to plot\n",
    "_, ax = plt.subplots(figsize=(10, 5))\n",
    "ax.bar(counter.keys(), counter.values())\n",
    "plt.xticks(range(1, len(counter)+1), age_labels)\n",
    "ax.set_xlabel('Age')\n",
    "plt.show()"
   ]
  },
  {
   "cell_type": "markdown",
   "id": "34967004",
   "metadata": {},
   "source": [
    "Since we aggregated the data such that everyone 55+ is in one bin, it makes sense that the bar on the right is much higher. In reality, when we break down that particular category, we get a more sensible distribution (sensible, since we have no reason to think that the distribution of our clients skewers young or old):"
   ]
  },
  {
   "cell_type": "code",
   "execution_count": 126,
   "id": "6ff04fe9",
   "metadata": {},
   "outputs": [
    {
     "data": {
      "image/png": "[encoded data removed]",
      "text/plain": [
       "<Figure size 720x360 with 1 Axes>"
      ]
     },
     "metadata": {
      "needs_background": "light"
     },
     "output_type": "display_data"
    }
   ],
   "source": [
    "# and matplotlib to plot\n",
    "_, ax = plt.subplots(figsize=(10, 5))\n",
    "ax.hist([cust['age'] for cust in customers], rwidth = 0.9)\n",
    "ax.set_xlabel('Age')\n",
    "plt.show()"
   ]
  },
  {
   "cell_type": "markdown",
   "id": "c3fd366a",
   "metadata": {},
   "source": [
    "### Shopping habits\n",
    "\n",
    "Now, we determine whether our customers shop daily, weekly, or sporadically. Based on the data by YouGov (H.2), 48% of Brits does all of their shopping weekly, 3% does it daily, and 22% doesn't have a set routine. The data also reveals that 10% don't do grocery shopping at all!\n",
    "\n",
    "Since we are assuming our 100 customers shop with us, we'll just re-adjust the percentages from the article."
   ]
  },
  {
   "cell_type": "code",
   "execution_count": 136,
   "id": "74161ca5",
   "metadata": {},
   "outputs": [
    {
     "name": "stdout",
     "output_type": "stream",
     "text": [
      "[0.03225806 0.51612903 0.4516129 ]\n"
     ]
    }
   ],
   "source": [
    "# Daily, Weekly, monthly + as required (which we will treat as sporadic)\n",
    "freq = [3, 48, 29+7+6]\n",
    "new_freqs = np.array(freq) / sum(freq)\n",
    "print(new_freqs)"
   ]
  },
  {
   "cell_type": "markdown",
   "id": "75aa2d96",
   "metadata": {},
   "source": [
    "We can use these frequencies to determine a customer habits."
   ]
  },
  {
   "cell_type": "code",
   "execution_count": 139,
   "id": "cae27aac",
   "metadata": {},
   "outputs": [],
   "source": [
    "for customer in customers:\n",
    "    # Generate random number between 0 and 1\n",
    "    rand = np.random.rand()\n",
    "    if rand <= new_freqs[0]:\n",
    "        customer['habit'] = 'daily'\n",
    "    elif rand <= new_freqs[1]:\n",
    "        customer['habit'] = 'weekly'\n",
    "    else: customer['habit'] = 'sporadic'"
   ]
  },
  {
   "cell_type": "code",
   "execution_count": 140,
   "id": "057682b7",
   "metadata": {
    "scrolled": true
   },
   "outputs": [
    {
     "name": "stdout",
     "output_type": "stream",
     "text": [
      "Counter({'weekly': 50, 'sporadic': 47, 'daily': 3})\n"
     ]
    }
   ],
   "source": [
    "pprint(Counter([cust['habit'] for cust in customers]))"
   ]
  },
  {
   "cell_type": "markdown",
   "id": "607254a4",
   "metadata": {},
   "source": [
    "Good enough!\n",
    "\n",
    "### Budget\n",
    "\n",
    "Finally, we look at how much money a customer has to spend on a given trip to the supermarket. Given that the average person spends £26.50 per week (see H.1 and source), we can assign a budget of 26.5 to every customer whose habit is weekly, 26.5/7 $\\approx$ 4 for customers whose habits are daily, and 26.5 x 52/12 $\\approx$ 115 for customers who have sporadic shopping habits. The last figure is a monhtly budget, which we deduce from every time the customer goes to the shop!"
   ]
  },
  {
   "cell_type": "code",
   "execution_count": 141,
   "id": "a5663efb",
   "metadata": {},
   "outputs": [],
   "source": [
    "for customer in customers:\n",
    "    if customer['habit'] == 'daily':\n",
    "        customer['budget'] = 4\n",
    "    elif customer['habit'] == 'weekly':\n",
    "        customer['budget'] = 26.5\n",
    "    else: customer['budget'] = 115"
   ]
  },
  {
   "cell_type": "code",
   "execution_count": 142,
   "id": "0ca204fa",
   "metadata": {
    "scrolled": true
   },
   "outputs": [
    {
     "name": "stdout",
     "output_type": "stream",
     "text": [
      "[{'age': 24, 'budget': 26.5, 'habit': 'weekly'},\n",
      " {'age': 84, 'budget': 115, 'habit': 'sporadic'},\n",
      " {'age': 82, 'budget': 26.5, 'habit': 'weekly'},\n",
      " {'age': 75, 'budget': 26.5, 'habit': 'weekly'},\n",
      " {'age': 69, 'budget': 115, 'habit': 'sporadic'},\n",
      " {'age': 52, 'budget': 26.5, 'habit': 'weekly'},\n",
      " {'age': 90, 'budget': 115, 'habit': 'sporadic'},\n",
      " {'age': 21, 'budget': 115, 'habit': 'sporadic'},\n",
      " {'age': 26, 'budget': 115, 'habit': 'sporadic'},\n",
      " {'age': 84, 'budget': 115, 'habit': 'sporadic'},\n",
      " {'age': 20, 'budget': 4, 'habit': 'daily'},\n",
      " {'age': 30, 'budget': 115, 'habit': 'sporadic'},\n",
      " {'age': 85, 'budget': 26.5, 'habit': 'weekly'},\n",
      " {'age': 89, 'budget': 115, 'habit': 'sporadic'},\n",
      " {'age': 46, 'budget': 26.5, 'habit': 'weekly'},\n",
      " {'age': 79, 'budget': 115, 'habit': 'sporadic'},\n",
      " {'age': 83, 'budget': 115, 'habit': 'sporadic'},\n",
      " {'age': 92, 'budget': 26.5, 'habit': 'weekly'},\n",
      " {'age': 85, 'budget': 26.5, 'habit': 'weekly'},\n",
      " {'age': 54, 'budget': 26.5, 'habit': 'weekly'},\n",
      " {'age': 84, 'budget': 26.5, 'habit': 'weekly'},\n",
      " {'age': 88, 'budget': 115, 'habit': 'sporadic'},\n",
      " {'age': 36, 'budget': 115, 'habit': 'sporadic'},\n",
      " {'age': 59, 'budget': 115, 'habit': 'sporadic'},\n",
      " {'age': 60, 'budget': 26.5, 'habit': 'weekly'},\n",
      " {'age': 61, 'budget': 26.5, 'habit': 'weekly'},\n",
      " {'age': 25, 'budget': 115, 'habit': 'sporadic'},\n",
      " {'age': 86, 'budget': 26.5, 'habit': 'weekly'},\n",
      " {'age': 37, 'budget': 26.5, 'habit': 'weekly'},\n",
      " {'age': 65, 'budget': 115, 'habit': 'sporadic'},\n",
      " {'age': 49, 'budget': 115, 'habit': 'sporadic'},\n",
      " {'age': 82, 'budget': 26.5, 'habit': 'weekly'},\n",
      " {'age': 70, 'budget': 115, 'habit': 'sporadic'},\n",
      " {'age': 39, 'budget': 115, 'habit': 'sporadic'},\n",
      " {'age': 24, 'budget': 26.5, 'habit': 'weekly'},\n",
      " {'age': 46, 'budget': 115, 'habit': 'sporadic'},\n",
      " {'age': 81, 'budget': 115, 'habit': 'sporadic'},\n",
      " {'age': 38, 'budget': 26.5, 'habit': 'weekly'},\n",
      " {'age': 89, 'budget': 115, 'habit': 'sporadic'},\n",
      " {'age': 31, 'budget': 115, 'habit': 'sporadic'},\n",
      " {'age': 59, 'budget': 26.5, 'habit': 'weekly'},\n",
      " {'age': 46, 'budget': 115, 'habit': 'sporadic'},\n",
      " {'age': 70, 'budget': 26.5, 'habit': 'weekly'},\n",
      " {'age': 75, 'budget': 115, 'habit': 'sporadic'},\n",
      " {'age': 81, 'budget': 26.5, 'habit': 'weekly'},\n",
      " {'age': 93, 'budget': 26.5, 'habit': 'weekly'},\n",
      " {'age': 52, 'budget': 26.5, 'habit': 'weekly'},\n",
      " {'age': 33, 'budget': 26.5, 'habit': 'weekly'},\n",
      " {'age': 24, 'budget': 115, 'habit': 'sporadic'},\n",
      " {'age': 66, 'budget': 26.5, 'habit': 'weekly'},\n",
      " {'age': 61, 'budget': 115, 'habit': 'sporadic'},\n",
      " {'age': 43, 'budget': 26.5, 'habit': 'weekly'},\n",
      " {'age': 74, 'budget': 26.5, 'habit': 'weekly'},\n",
      " {'age': 53, 'budget': 26.5, 'habit': 'weekly'},\n",
      " {'age': 29, 'budget': 26.5, 'habit': 'weekly'},\n",
      " {'age': 39, 'budget': 115, 'habit': 'sporadic'},\n",
      " {'age': 46, 'budget': 115, 'habit': 'sporadic'},\n",
      " {'age': 81, 'budget': 115, 'habit': 'sporadic'},\n",
      " {'age': 52, 'budget': 115, 'habit': 'sporadic'},\n",
      " {'age': 80, 'budget': 115, 'habit': 'sporadic'},\n",
      " {'age': 81, 'budget': 26.5, 'habit': 'weekly'},\n",
      " {'age': 92, 'budget': 26.5, 'habit': 'weekly'},\n",
      " {'age': 37, 'budget': 115, 'habit': 'sporadic'},\n",
      " {'age': 27, 'budget': 26.5, 'habit': 'weekly'},\n",
      " {'age': 70, 'budget': 26.5, 'habit': 'weekly'},\n",
      " {'age': 26, 'budget': 115, 'habit': 'sporadic'},\n",
      " {'age': 39, 'budget': 115, 'habit': 'sporadic'},\n",
      " {'age': 43, 'budget': 115, 'habit': 'sporadic'},\n",
      " {'age': 31, 'budget': 115, 'habit': 'sporadic'},\n",
      " {'age': 42, 'budget': 26.5, 'habit': 'weekly'},\n",
      " {'age': 75, 'budget': 26.5, 'habit': 'weekly'},\n",
      " {'age': 83, 'budget': 26.5, 'habit': 'weekly'},\n",
      " {'age': 92, 'budget': 115, 'habit': 'sporadic'},\n",
      " {'age': 65, 'budget': 115, 'habit': 'sporadic'},\n",
      " {'age': 57, 'budget': 26.5, 'habit': 'weekly'},\n",
      " {'age': 76, 'budget': 115, 'habit': 'sporadic'},\n",
      " {'age': 58, 'budget': 26.5, 'habit': 'weekly'},\n",
      " {'age': 28, 'budget': 115, 'habit': 'sporadic'},\n",
      " {'age': 82, 'budget': 26.5, 'habit': 'weekly'},\n",
      " {'age': 89, 'budget': 115, 'habit': 'sporadic'},\n",
      " {'age': 37, 'budget': 26.5, 'habit': 'weekly'},\n",
      " {'age': 37, 'budget': 115, 'habit': 'sporadic'},\n",
      " {'age': 72, 'budget': 26.5, 'habit': 'weekly'},\n",
      " {'age': 97, 'budget': 26.5, 'habit': 'weekly'},\n",
      " {'age': 56, 'budget': 115, 'habit': 'sporadic'},\n",
      " {'age': 97, 'budget': 26.5, 'habit': 'weekly'},\n",
      " {'age': 92, 'budget': 4, 'habit': 'daily'},\n",
      " {'age': 43, 'budget': 26.5, 'habit': 'weekly'},\n",
      " {'age': 61, 'budget': 4, 'habit': 'daily'},\n",
      " {'age': 19, 'budget': 26.5, 'habit': 'weekly'},\n",
      " {'age': 34, 'budget': 115, 'habit': 'sporadic'},\n",
      " {'age': 85, 'budget': 115, 'habit': 'sporadic'},\n",
      " {'age': 39, 'budget': 26.5, 'habit': 'weekly'},\n",
      " {'age': 60, 'budget': 26.5, 'habit': 'weekly'},\n",
      " {'age': 48, 'budget': 26.5, 'habit': 'weekly'},\n",
      " {'age': 63, 'budget': 115, 'habit': 'sporadic'},\n",
      " {'age': 23, 'budget': 26.5, 'habit': 'weekly'},\n",
      " {'age': 46, 'budget': 115, 'habit': 'sporadic'},\n",
      " {'age': 52, 'budget': 26.5, 'habit': 'weekly'},\n",
      " {'age': 88, 'budget': 26.5, 'habit': 'weekly'}]\n"
     ]
    }
   ],
   "source": [
    "pprint(customers)"
   ]
  },
  {
   "cell_type": "markdown",
   "id": "429a04f4",
   "metadata": {},
   "source": [
    "With this, we can save the customer's list (might be easier to save a JSON for portability) in preparation for the next step!"
   ]
  },
  {
   "cell_type": "code",
   "execution_count": 143,
   "id": "5f5aa514",
   "metadata": {},
   "outputs": [],
   "source": [
    "import json\n",
    "json.dump(customers, open('../data/processed/customers.json', 'w'))"
   ]
  }
 ],
 "metadata": {
  "kernelspec": {
   "display_name": "Python 3 (ipykernel)",
   "language": "python",
   "name": "python3"
  },
  "language_info": {
   "codemirror_mode": {
    "name": "ipython",
    "version": 3
   },
   "file_extension": ".py",
   "mimetype": "text/x-python",
   "name": "python",
   "nbconvert_exporter": "python",
   "pygments_lexer": "ipython3",
   "version": "3.8.12"
  }
 },
 "nbformat": 4,
 "nbformat_minor": 5
}
